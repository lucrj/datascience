{
  "nbformat": 4,
  "nbformat_minor": 0,
  "metadata": {
    "colab": {
      "provenance": [],
      "authorship_tag": "ABX9TyOnQrZzkUr++kbFApT4yndQ",
      "include_colab_link": true
    },
    "kernelspec": {
      "name": "python3",
      "display_name": "Python 3"
    },
    "language_info": {
      "name": "python"
    }
  },
  "cells": [
    {
      "cell_type": "markdown",
      "metadata": {
        "id": "view-in-github",
        "colab_type": "text"
      },
      "source": [
        "<a href=\"https://colab.research.google.com/github/lucrj/datascience/blob/main/iplscore.ipynb\" target=\"_parent\"><img src=\"https://colab.research.google.com/assets/colab-badge.svg\" alt=\"Open In Colab\"/></a>"
      ]
    },
    {
      "cell_type": "code",
      "execution_count": 1,
      "metadata": {
        "colab": {
          "base_uri": "https://localhost:8080/"
        },
        "id": "sUqXP8YWCZ9P",
        "outputId": "75d01dec-8da2-4bee-84ea-77ab3938df0f"
      },
      "outputs": [
        {
          "output_type": "stream",
          "name": "stdout",
          "text": [
            "Mean Absolute Error: 12.296815622921317\n",
            "R-squared: 0.7307869817777806\n",
            "Predicted Score: 168.52876230525035\n"
          ]
        }
      ],
      "source": [
        "import numpy as np\n",
        "import pandas as pd\n",
        "from sklearn.model_selection import train_test_split\n",
        "from sklearn.linear_model import LinearRegression\n",
        "from sklearn.metrics import mean_absolute_error, r2_score\n",
        "\n",
        "# Load the dataset\n",
        "# Make sure 'data.csv' is in the same directory as your script\n",
        "df = pd.read_csv('/content/data.csv')\n",
        "\n",
        "# --- Data Cleaning ---\n",
        "\n",
        "# Remove unwanted columns that are not relevant for score prediction\n",
        "df.drop(['mid', 'batsman', 'bowler', 'striker', 'non-striker'], axis=1, inplace=True)\n",
        "\n",
        "# For consistency, we'll keep only the teams that are currently playing or have played for a long time\n",
        "consistent_teams = ['Kolkata Knight Riders', 'Chennai Super Kings', 'Rajasthan Royals',\n",
        "                    'Mumbai Indians', 'Kings XI Punjab', 'Royal Challengers Bangalore',\n",
        "                    'Delhi Daredevils', 'Sunrisers Hyderabad']\n",
        "df = df[(df['batting_team'].isin(consistent_teams)) & (df['bowling_team'].isin(consistent_teams))]\n",
        "\n",
        "# Remove the first 5 overs of every match, as score prediction is more reliable after a few overs\n",
        "df = df[df['overs'] >= 5.0]\n",
        "\n",
        "# --- Data Preprocessing ---\n",
        "\n",
        "# Convert the 'date' column to datetime objects to handle time-series data if needed in future analysis\n",
        "df['date'] = pd.to_datetime(df['date'])\n",
        "\n",
        "# Convert categorical features into numerical format using one-hot encoding\n",
        "# This is necessary for the machine learning model to understand them\n",
        "encoded_df = pd.get_dummies(data=df, columns=['batting_team', 'bowling_team', 'venue'])\n",
        "\n",
        "# Split the data into features (X) and the target variable (y)\n",
        "X = encoded_df.drop('total', axis=1)\n",
        "y = encoded_df['total']\n",
        "\n",
        "# We don't need the date column for our current prediction model\n",
        "X = X.drop('date', axis=1)\n",
        "\n",
        "# Split the data into training and testing sets to evaluate the model's performance\n",
        "X_train, X_test, y_train, y_test = train_test_split(X, y, test_size=0.3, random_state=42)\n",
        "\n",
        "# --- Model Building ---\n",
        "\n",
        "# Initialize the Linear Regression model\n",
        "model = LinearRegression()\n",
        "\n",
        "# Train the model with the training data\n",
        "model.fit(X_train, y_train)\n",
        "\n",
        "# --- Model Evaluation ---\n",
        "\n",
        "# Make predictions on the test set\n",
        "y_pred = model.predict(X_test)\n",
        "\n",
        "# Evaluate the model's performance\n",
        "mae = mean_absolute_error(y_test, y_pred)\n",
        "r2 = r2_score(y_test, y_pred)\n",
        "\n",
        "print(f\"Mean Absolute Error: {mae}\")\n",
        "print(f\"R-squared: {r2}\")\n",
        "\n",
        "# --- Create a sample prediction function ---\n",
        "\n",
        "def predict_score(batting_team, bowling_team, venue, overs, runs, wickets, runs_last_5, wickets_last_5, model, X_train_columns):\n",
        "    \"\"\"\n",
        "    Predicts the final score of a team based on the current match situation.\n",
        "    \"\"\"\n",
        "    # Create a dictionary with the input data\n",
        "    input_data = {\n",
        "        'batting_team': [batting_team],\n",
        "        'bowling_team': [bowling_team],\n",
        "        'venue': [venue],\n",
        "        'overs': [overs],\n",
        "        'runs': [runs],\n",
        "        'wickets': [wickets],\n",
        "        'runs_last_5': [runs_last_5],\n",
        "        'wickets_last_5': [wickets_last_5]\n",
        "    }\n",
        "\n",
        "    # Create a DataFrame from the input data\n",
        "    input_df = pd.DataFrame(input_data)\n",
        "\n",
        "    # One-hot encode the categorical features\n",
        "    input_encoded = pd.get_dummies(input_df, columns=['batting_team', 'bowling_team', 'venue'])\n",
        "\n",
        "    # Align the columns of the input with the training data to ensure they have the same features\n",
        "    input_aligned = input_encoded.reindex(columns=X_train_columns, fill_value=0)\n",
        "\n",
        "    # Predict the score\n",
        "    predicted_score = model.predict(input_aligned)\n",
        "\n",
        "    return predicted_score[0]\n",
        "\n",
        "# Example usage of the prediction function\n",
        "predicted_total = predict_score(batting_team='Mumbai Indians',\n",
        "                                 bowling_team='Kolkata Knight Riders',\n",
        "                                 venue='M Chinnaswamy Stadium',\n",
        "                                 overs=10.2,\n",
        "                                 runs=80,\n",
        "                                 wickets=2,\n",
        "                                 runs_last_5=35,\n",
        "                                 wickets_last_5=1,\n",
        "                                 model=model,\n",
        "                                 X_train_columns = X_train.columns)\n",
        "\n",
        "print(f\"Predicted Score: {predicted_total}\")"
      ]
    }
  ]
}